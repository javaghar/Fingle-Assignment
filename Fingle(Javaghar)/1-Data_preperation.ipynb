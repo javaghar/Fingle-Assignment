{
 "cells": [
  {
   "cell_type": "code",
   "execution_count": 23,
   "id": "69063ceb",
   "metadata": {},
   "outputs": [],
   "source": [
    "import pandas as pd\n",
    "import numpy as np"
   ]
  },
  {
   "cell_type": "code",
   "execution_count": null,
   "id": "6dc0e9e4",
   "metadata": {},
   "outputs": [],
   "source": [
    "\n",
    "df = pd.read_csv(\"Users.csv\")\n",
    "gb = pd.read_csv(\"Engagements.csv\")\n",
    "\n",
    "df2 = gb.groupby('user_id')['engagement'].mean().reset_index()\n",
    "df2.rename(columns={'engagement': 'Current_engagement_score'}, inplace=True)"
   ]
  },
  {
   "cell_type": "code",
   "execution_count": 25,
   "id": "a34d11d7",
   "metadata": {},
   "outputs": [
    {
     "data": {
      "text/html": [
       "<div>\n",
       "<style scoped>\n",
       "    .dataframe tbody tr th:only-of-type {\n",
       "        vertical-align: middle;\n",
       "    }\n",
       "\n",
       "    .dataframe tbody tr th {\n",
       "        vertical-align: top;\n",
       "    }\n",
       "\n",
       "    .dataframe thead th {\n",
       "        text-align: right;\n",
       "    }\n",
       "</style>\n",
       "<table border=\"1\" class=\"dataframe\">\n",
       "  <thead>\n",
       "    <tr style=\"text-align: right;\">\n",
       "      <th></th>\n",
       "      <th>user_id</th>\n",
       "      <th>Current_engagement_score</th>\n",
       "    </tr>\n",
       "  </thead>\n",
       "  <tbody>\n",
       "    <tr>\n",
       "      <th>0</th>\n",
       "      <td>U1</td>\n",
       "      <td>0.55</td>\n",
       "    </tr>\n",
       "    <tr>\n",
       "      <th>1</th>\n",
       "      <td>U10</td>\n",
       "      <td>0.45</td>\n",
       "    </tr>\n",
       "    <tr>\n",
       "      <th>2</th>\n",
       "      <td>U11</td>\n",
       "      <td>0.45</td>\n",
       "    </tr>\n",
       "    <tr>\n",
       "      <th>3</th>\n",
       "      <td>U12</td>\n",
       "      <td>0.70</td>\n",
       "    </tr>\n",
       "    <tr>\n",
       "      <th>4</th>\n",
       "      <td>U13</td>\n",
       "      <td>0.60</td>\n",
       "    </tr>\n",
       "  </tbody>\n",
       "</table>\n",
       "</div>"
      ],
      "text/plain": [
       "  user_id  Current_engagement_score\n",
       "0      U1                      0.55\n",
       "1     U10                      0.45\n",
       "2     U11                      0.45\n",
       "3     U12                      0.70\n",
       "4     U13                      0.60"
      ]
     },
     "execution_count": 25,
     "metadata": {},
     "output_type": "execute_result"
    }
   ],
   "source": [
    "df2.head(5)"
   ]
  },
  {
   "cell_type": "code",
   "execution_count": null,
   "id": "d7e9860c",
   "metadata": {},
   "outputs": [],
   "source": [
    "\n",
    "df_final = pd.merge(df, df2, on='user_id', how='left')"
   ]
  },
  {
   "cell_type": "code",
   "execution_count": null,
   "id": "8edb3bfc",
   "metadata": {},
   "outputs": [],
   "source": [
    "df_final['Engagement'] = np.where(\n",
    "    df_final['Current_engagement_score'] > df_final['past_engagement_score'],0,1)"
   ]
  },
  {
   "cell_type": "code",
   "execution_count": null,
   "id": "fdaa8a19",
   "metadata": {},
   "outputs": [],
   "source": [
    "\n",
    "df_final['Interest'] = df_final['top_3_interests'].str.split(',').str[0].str.strip()\n"
   ]
  },
  {
   "cell_type": "code",
   "execution_count": 29,
   "id": "17bbc068",
   "metadata": {},
   "outputs": [
    {
     "data": {
      "text/html": [
       "<div>\n",
       "<style scoped>\n",
       "    .dataframe tbody tr th:only-of-type {\n",
       "        vertical-align: middle;\n",
       "    }\n",
       "\n",
       "    .dataframe tbody tr th {\n",
       "        vertical-align: top;\n",
       "    }\n",
       "\n",
       "    .dataframe thead th {\n",
       "        text-align: right;\n",
       "    }\n",
       "</style>\n",
       "<table border=\"1\" class=\"dataframe\">\n",
       "  <thead>\n",
       "    <tr style=\"text-align: right;\">\n",
       "      <th></th>\n",
       "      <th>user_id</th>\n",
       "      <th>age</th>\n",
       "      <th>gender</th>\n",
       "      <th>top_3_interests</th>\n",
       "      <th>past_engagement_score</th>\n",
       "      <th>Current_engagement_score</th>\n",
       "      <th>Engagement</th>\n",
       "      <th>Interest</th>\n",
       "    </tr>\n",
       "  </thead>\n",
       "  <tbody>\n",
       "    <tr>\n",
       "      <th>0</th>\n",
       "      <td>U1</td>\n",
       "      <td>24</td>\n",
       "      <td>F</td>\n",
       "      <td>sports, art, gaming</td>\n",
       "      <td>0.61</td>\n",
       "      <td>0.55</td>\n",
       "      <td>1</td>\n",
       "      <td>sports</td>\n",
       "    </tr>\n",
       "    <tr>\n",
       "      <th>1</th>\n",
       "      <td>U2</td>\n",
       "      <td>32</td>\n",
       "      <td>F</td>\n",
       "      <td>travel, food, fashion</td>\n",
       "      <td>0.93</td>\n",
       "      <td>0.35</td>\n",
       "      <td>1</td>\n",
       "      <td>travel</td>\n",
       "    </tr>\n",
       "    <tr>\n",
       "      <th>2</th>\n",
       "      <td>U3</td>\n",
       "      <td>28</td>\n",
       "      <td>Other</td>\n",
       "      <td>sports, travel, fashion</td>\n",
       "      <td>0.40</td>\n",
       "      <td>0.45</td>\n",
       "      <td>0</td>\n",
       "      <td>sports</td>\n",
       "    </tr>\n",
       "    <tr>\n",
       "      <th>3</th>\n",
       "      <td>U4</td>\n",
       "      <td>25</td>\n",
       "      <td>M</td>\n",
       "      <td>fashion, music, tech</td>\n",
       "      <td>0.53</td>\n",
       "      <td>0.55</td>\n",
       "      <td>0</td>\n",
       "      <td>fashion</td>\n",
       "    </tr>\n",
       "    <tr>\n",
       "      <th>4</th>\n",
       "      <td>U5</td>\n",
       "      <td>24</td>\n",
       "      <td>M</td>\n",
       "      <td>fashion, food, fitness</td>\n",
       "      <td>0.80</td>\n",
       "      <td>0.40</td>\n",
       "      <td>1</td>\n",
       "      <td>fashion</td>\n",
       "    </tr>\n",
       "  </tbody>\n",
       "</table>\n",
       "</div>"
      ],
      "text/plain": [
       "  user_id  age gender          top_3_interests  past_engagement_score  \\\n",
       "0      U1   24      F      sports, art, gaming                   0.61   \n",
       "1      U2   32      F    travel, food, fashion                   0.93   \n",
       "2      U3   28  Other  sports, travel, fashion                   0.40   \n",
       "3      U4   25      M     fashion, music, tech                   0.53   \n",
       "4      U5   24      M   fashion, food, fitness                   0.80   \n",
       "\n",
       "   Current_engagement_score  Engagement Interest  \n",
       "0                      0.55           1   sports  \n",
       "1                      0.35           1   travel  \n",
       "2                      0.45           0   sports  \n",
       "3                      0.55           0  fashion  \n",
       "4                      0.40           1  fashion  "
      ]
     },
     "execution_count": 29,
     "metadata": {},
     "output_type": "execute_result"
    }
   ],
   "source": [
    "df_final.head()"
   ]
  },
  {
   "cell_type": "markdown",
   "id": "23490fcf",
   "metadata": {},
   "source": [
    "- Created the Interest list"
   ]
  },
  {
   "cell_type": "code",
   "execution_count": null,
   "id": "5e90897a",
   "metadata": {},
   "outputs": [],
   "source": [
    "\n",
    "interest = df_final['top_3_interests'].str.split(',').explode()\n",
    "interest = interest.str.strip()\n",
    "interest = interest.drop_duplicates()\n",
    "\n",
    "df = pd.DataFrame(interest).rename(columns={'top_3_interests': 'Interest'})\n",
    "df.reset_index(drop=True, inplace=True)\n",
    "df['ID'] = df.index\n",
    "\n",
    "df= df[['ID', 'Interest']]\n",
    "df.to_csv(\"Interests_list.csv\", index=False)"
   ]
  },
  {
   "cell_type": "code",
   "execution_count": 31,
   "id": "5558484f",
   "metadata": {},
   "outputs": [],
   "source": [
    "df_final=df_final[[\"user_id\",\"age\",\"gender\",\"past_engagement_score\",\"Interest\",\"Engagement\"]]"
   ]
  },
  {
   "cell_type": "code",
   "execution_count": 33,
   "id": "f592e4d2",
   "metadata": {},
   "outputs": [],
   "source": [
    "df_final.to_csv(\"1-Prepared_data.csv\",index= False)"
   ]
  }
 ],
 "metadata": {
  "kernelspec": {
   "display_name": "Python 3",
   "language": "python",
   "name": "python3"
  },
  "language_info": {
   "codemirror_mode": {
    "name": "ipython",
    "version": 3
   },
   "file_extension": ".py",
   "mimetype": "text/x-python",
   "name": "python",
   "nbconvert_exporter": "python",
   "pygments_lexer": "ipython3",
   "version": "3.11.9"
  }
 },
 "nbformat": 4,
 "nbformat_minor": 5
}
