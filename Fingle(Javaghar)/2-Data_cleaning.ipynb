{
 "cells": [
  {
   "cell_type": "code",
   "execution_count": 35,
   "id": "6037d1cb",
   "metadata": {},
   "outputs": [],
   "source": [
    "import pandas as pd\n",
    "import numpy as np"
   ]
  },
  {
   "cell_type": "code",
   "execution_count": 36,
   "id": "ced8d4e1",
   "metadata": {},
   "outputs": [],
   "source": [
    "df = pd.read_csv(\"1-Prepared_data.csv\")"
   ]
  },
  {
   "cell_type": "code",
   "execution_count": 37,
   "id": "f8ca61c9",
   "metadata": {},
   "outputs": [
    {
     "name": "stdout",
     "output_type": "stream",
     "text": [
      "<class 'pandas.core.frame.DataFrame'>\n",
      "RangeIndex: 50 entries, 0 to 49\n",
      "Data columns (total 6 columns):\n",
      " #   Column                 Non-Null Count  Dtype  \n",
      "---  ------                 --------------  -----  \n",
      " 0   user_id                50 non-null     object \n",
      " 1   age                    50 non-null     int64  \n",
      " 2   gender                 50 non-null     object \n",
      " 3   past_engagement_score  50 non-null     float64\n",
      " 4   Interest               50 non-null     object \n",
      " 5   Engagement             50 non-null     int64  \n",
      "dtypes: float64(1), int64(2), object(3)\n",
      "memory usage: 2.5+ KB\n"
     ]
    }
   ],
   "source": [
    "df.info()"
   ]
  },
  {
   "cell_type": "code",
   "execution_count": 38,
   "id": "2640b28c",
   "metadata": {},
   "outputs": [
    {
     "data": {
      "text/plain": [
       "gender\n",
       "M        25\n",
       "F        23\n",
       "Other     2\n",
       "Name: count, dtype: int64"
      ]
     },
     "execution_count": 38,
     "metadata": {},
     "output_type": "execute_result"
    }
   ],
   "source": [
    "df['gender'].value_counts()"
   ]
  },
  {
   "cell_type": "code",
   "execution_count": 39,
   "id": "6b2fdcb9",
   "metadata": {},
   "outputs": [],
   "source": [
    "df['gender']=np.where(df['gender'] == 'M',1,\n",
    "                np.where(df['gender'] == 'F',0,-1))"
   ]
  },
  {
   "cell_type": "code",
   "execution_count": 40,
   "id": "782af4c6",
   "metadata": {},
   "outputs": [],
   "source": [
    "gb=pd.read_csv(\"Interests_list.csv\")"
   ]
  },
  {
   "cell_type": "code",
   "execution_count": 41,
   "id": "3b8ba3bd",
   "metadata": {},
   "outputs": [],
   "source": [
    "df = pd.merge(df, gb, how='left', on='Interest')"
   ]
  },
  {
   "cell_type": "code",
   "execution_count": 42,
   "id": "7c5599cf",
   "metadata": {},
   "outputs": [],
   "source": [
    "df=df.drop(['Interest'], axis=1)"
   ]
  },
  {
   "cell_type": "code",
   "execution_count": 43,
   "id": "7de5676a",
   "metadata": {},
   "outputs": [],
   "source": [
    "df=df[[\"user_id\",\"age\",\"gender\",\"past_engagement_score\",\"ID\",\"Engagement\"]]"
   ]
  },
  {
   "cell_type": "code",
   "execution_count": 44,
   "id": "1407b9a4",
   "metadata": {},
   "outputs": [
    {
     "data": {
      "text/html": [
       "<div>\n",
       "<style scoped>\n",
       "    .dataframe tbody tr th:only-of-type {\n",
       "        vertical-align: middle;\n",
       "    }\n",
       "\n",
       "    .dataframe tbody tr th {\n",
       "        vertical-align: top;\n",
       "    }\n",
       "\n",
       "    .dataframe thead th {\n",
       "        text-align: right;\n",
       "    }\n",
       "</style>\n",
       "<table border=\"1\" class=\"dataframe\">\n",
       "  <thead>\n",
       "    <tr style=\"text-align: right;\">\n",
       "      <th></th>\n",
       "      <th>user_id</th>\n",
       "      <th>age</th>\n",
       "      <th>gender</th>\n",
       "      <th>past_engagement_score</th>\n",
       "      <th>ID</th>\n",
       "      <th>Engagement</th>\n",
       "    </tr>\n",
       "  </thead>\n",
       "  <tbody>\n",
       "    <tr>\n",
       "      <th>0</th>\n",
       "      <td>U1</td>\n",
       "      <td>24</td>\n",
       "      <td>0</td>\n",
       "      <td>0.61</td>\n",
       "      <td>0</td>\n",
       "      <td>1</td>\n",
       "    </tr>\n",
       "    <tr>\n",
       "      <th>1</th>\n",
       "      <td>U2</td>\n",
       "      <td>32</td>\n",
       "      <td>0</td>\n",
       "      <td>0.93</td>\n",
       "      <td>3</td>\n",
       "      <td>1</td>\n",
       "    </tr>\n",
       "    <tr>\n",
       "      <th>2</th>\n",
       "      <td>U3</td>\n",
       "      <td>28</td>\n",
       "      <td>-1</td>\n",
       "      <td>0.40</td>\n",
       "      <td>0</td>\n",
       "      <td>0</td>\n",
       "    </tr>\n",
       "    <tr>\n",
       "      <th>3</th>\n",
       "      <td>U4</td>\n",
       "      <td>25</td>\n",
       "      <td>1</td>\n",
       "      <td>0.53</td>\n",
       "      <td>5</td>\n",
       "      <td>0</td>\n",
       "    </tr>\n",
       "    <tr>\n",
       "      <th>4</th>\n",
       "      <td>U5</td>\n",
       "      <td>24</td>\n",
       "      <td>1</td>\n",
       "      <td>0.80</td>\n",
       "      <td>5</td>\n",
       "      <td>1</td>\n",
       "    </tr>\n",
       "  </tbody>\n",
       "</table>\n",
       "</div>"
      ],
      "text/plain": [
       "  user_id  age  gender  past_engagement_score  ID  Engagement\n",
       "0      U1   24       0                   0.61   0           1\n",
       "1      U2   32       0                   0.93   3           1\n",
       "2      U3   28      -1                   0.40   0           0\n",
       "3      U4   25       1                   0.53   5           0\n",
       "4      U5   24       1                   0.80   5           1"
      ]
     },
     "execution_count": 44,
     "metadata": {},
     "output_type": "execute_result"
    }
   ],
   "source": [
    "df.head()"
   ]
  },
  {
   "cell_type": "code",
   "execution_count": 45,
   "id": "e2de97ac",
   "metadata": {},
   "outputs": [],
   "source": [
    "df.to_csv(\"2-Model_Input.csv\",index= False)"
   ]
  }
 ],
 "metadata": {
  "kernelspec": {
   "display_name": "Python 3",
   "language": "python",
   "name": "python3"
  },
  "language_info": {
   "codemirror_mode": {
    "name": "ipython",
    "version": 3
   },
   "file_extension": ".py",
   "mimetype": "text/x-python",
   "name": "python",
   "nbconvert_exporter": "python",
   "pygments_lexer": "ipython3",
   "version": "3.11.9"
  }
 },
 "nbformat": 4,
 "nbformat_minor": 5
}
