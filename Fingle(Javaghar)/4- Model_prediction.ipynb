{
 "cells": [
  {
   "cell_type": "code",
   "execution_count": 413,
   "id": "9fc2ae19",
   "metadata": {},
   "outputs": [],
   "source": [
    "import pickle\n",
    "import numpy as np\n",
    "import pandas as pd"
   ]
  },
  {
   "cell_type": "code",
   "execution_count": 414,
   "id": "e72f4c58",
   "metadata": {},
   "outputs": [],
   "source": [
    "n = 30\n",
    "\n",
    "data = {\n",
    "    'user_id': [f'U{i}' for i in range(1, n + 1)],\n",
    "    'age': np.random.randint(18, 36, size=n),\n",
    "    'gender': np.random.choice(['M', 'F', 'Other'], size=n),\n",
    "    'past_engagement_score': np.round(np.random.uniform(0.2, 0.98, size=n), 2)\n",
    "}\n",
    "\n",
    "# Create the DataFrame\n",
    "df = pd.DataFrame(data)\n"
   ]
  },
  {
   "cell_type": "code",
   "execution_count": 415,
   "id": "55381970",
   "metadata": {},
   "outputs": [
    {
     "name": "stdout",
     "output_type": "stream",
     "text": [
      "<class 'pandas.core.frame.DataFrame'>\n",
      "RangeIndex: 30 entries, 0 to 29\n",
      "Data columns (total 4 columns):\n",
      " #   Column                 Non-Null Count  Dtype  \n",
      "---  ------                 --------------  -----  \n",
      " 0   user_id                30 non-null     object \n",
      " 1   age                    30 non-null     int32  \n",
      " 2   gender                 30 non-null     object \n",
      " 3   past_engagement_score  30 non-null     float64\n",
      "dtypes: float64(1), int32(1), object(2)\n",
      "memory usage: 972.0+ bytes\n"
     ]
    }
   ],
   "source": [
    "df.info()"
   ]
  },
  {
   "cell_type": "code",
   "execution_count": 416,
   "id": "f5b0d126",
   "metadata": {},
   "outputs": [
    {
     "data": {
      "text/html": [
       "<div>\n",
       "<style scoped>\n",
       "    .dataframe tbody tr th:only-of-type {\n",
       "        vertical-align: middle;\n",
       "    }\n",
       "\n",
       "    .dataframe tbody tr th {\n",
       "        vertical-align: top;\n",
       "    }\n",
       "\n",
       "    .dataframe thead th {\n",
       "        text-align: right;\n",
       "    }\n",
       "</style>\n",
       "<table border=\"1\" class=\"dataframe\">\n",
       "  <thead>\n",
       "    <tr style=\"text-align: right;\">\n",
       "      <th></th>\n",
       "      <th>user_id</th>\n",
       "      <th>age</th>\n",
       "      <th>gender</th>\n",
       "      <th>past_engagement_score</th>\n",
       "    </tr>\n",
       "  </thead>\n",
       "  <tbody>\n",
       "    <tr>\n",
       "      <th>0</th>\n",
       "      <td>U1</td>\n",
       "      <td>34</td>\n",
       "      <td>F</td>\n",
       "      <td>0.41</td>\n",
       "    </tr>\n",
       "    <tr>\n",
       "      <th>1</th>\n",
       "      <td>U2</td>\n",
       "      <td>21</td>\n",
       "      <td>Other</td>\n",
       "      <td>0.66</td>\n",
       "    </tr>\n",
       "    <tr>\n",
       "      <th>2</th>\n",
       "      <td>U3</td>\n",
       "      <td>29</td>\n",
       "      <td>F</td>\n",
       "      <td>0.95</td>\n",
       "    </tr>\n",
       "    <tr>\n",
       "      <th>3</th>\n",
       "      <td>U4</td>\n",
       "      <td>26</td>\n",
       "      <td>M</td>\n",
       "      <td>0.58</td>\n",
       "    </tr>\n",
       "    <tr>\n",
       "      <th>4</th>\n",
       "      <td>U5</td>\n",
       "      <td>34</td>\n",
       "      <td>F</td>\n",
       "      <td>0.36</td>\n",
       "    </tr>\n",
       "  </tbody>\n",
       "</table>\n",
       "</div>"
      ],
      "text/plain": [
       "  user_id  age gender  past_engagement_score\n",
       "0      U1   34      F                   0.41\n",
       "1      U2   21  Other                   0.66\n",
       "2      U3   29      F                   0.95\n",
       "3      U4   26      M                   0.58\n",
       "4      U5   34      F                   0.36"
      ]
     },
     "execution_count": 416,
     "metadata": {},
     "output_type": "execute_result"
    }
   ],
   "source": [
    "df.head()"
   ]
  },
  {
   "cell_type": "code",
   "execution_count": 417,
   "id": "1e5c5582",
   "metadata": {},
   "outputs": [],
   "source": [
    "df['gender']=np.where(df['gender'] == 'M',1,\n",
    "                np.where(df['gender'] == 'F',0,-1))"
   ]
  },
  {
   "cell_type": "code",
   "execution_count": 418,
   "id": "9a39375e",
   "metadata": {},
   "outputs": [
    {
     "data": {
      "text/plain": [
       "(300, 5)"
      ]
     },
     "execution_count": 418,
     "metadata": {},
     "output_type": "execute_result"
    }
   ],
   "source": [
    "gb = pd.read_csv('Interests_list.csv')\n",
    "gb['key'] = 1\n",
    "df['key'] = 1\n",
    "\n",
    "df = pd.merge(df, gb, how='inner', on='key')\n",
    "df = df.drop(['key', 'Interest'], axis=1)\n",
    "df.shape"
   ]
  },
  {
   "cell_type": "code",
   "execution_count": 419,
   "id": "8829fc11",
   "metadata": {},
   "outputs": [
    {
     "name": "stdout",
     "output_type": "stream",
     "text": [
      "3-Model RF 2025-09-30.pkl\n"
     ]
    }
   ],
   "source": [
    "import joblib\n",
    "model = \"3-Model RF 2025-09-30.pkl\"\n",
    "print(model)\n",
    "model = joblib.load(model)"
   ]
  },
  {
   "cell_type": "code",
   "execution_count": 420,
   "id": "f1425f2f",
   "metadata": {},
   "outputs": [
    {
     "name": "stdout",
     "output_type": "stream",
     "text": [
      "(300, 3)\n",
      "[0 2 1 9 8 7 3 6 4 5]\n",
      "(300, 6)\n"
     ]
    }
   ],
   "source": [
    "x = df[['past_engagement_score','age','ID']]\n",
    "print(x.shape)\n",
    "\n",
    "\n",
    "df['Engagement']=model.predict_proba(x)[:, 1]\n",
    "df = df.sort_values(['user_id','Engagement','ID'], ascending=[False,False,False]).reset_index(drop=True)\n",
    "print(df['ID'].unique())\n",
    "print(df.shape)\n",
    "\n",
    "\n",
    "\n",
    "\n"
   ]
  },
  {
   "cell_type": "code",
   "execution_count": 421,
   "id": "7de8ca5d",
   "metadata": {},
   "outputs": [],
   "source": [
    "gb = pd.read_csv('Interests_list.csv')\n",
    "df = pd.merge(df, gb, how='left', on='ID')\n",
    "\n",
    "\n",
    "df = df.sort_values(['user_id','Engagement'], ascending=[True,False]).reset_index(drop=True)\n",
    "df=df.drop(['ID'],axis=1)\n"
   ]
  },
  {
   "cell_type": "code",
   "execution_count": 422,
   "id": "e08bb8b0",
   "metadata": {},
   "outputs": [
    {
     "data": {
      "text/plain": [
       "(90, 6)"
      ]
     },
     "execution_count": 422,
     "metadata": {},
     "output_type": "execute_result"
    }
   ],
   "source": [
    "df = df[df['user_id']!=df['user_id'].shift(3)]\n",
    "df.shape"
   ]
  },
  {
   "cell_type": "code",
   "execution_count": 423,
   "id": "792e224a",
   "metadata": {},
   "outputs": [
    {
     "data": {
      "text/html": [
       "<div>\n",
       "<style scoped>\n",
       "    .dataframe tbody tr th:only-of-type {\n",
       "        vertical-align: middle;\n",
       "    }\n",
       "\n",
       "    .dataframe tbody tr th {\n",
       "        vertical-align: top;\n",
       "    }\n",
       "\n",
       "    .dataframe thead th {\n",
       "        text-align: right;\n",
       "    }\n",
       "</style>\n",
       "<table border=\"1\" class=\"dataframe\">\n",
       "  <thead>\n",
       "    <tr style=\"text-align: right;\">\n",
       "      <th></th>\n",
       "      <th>user_id</th>\n",
       "      <th>age</th>\n",
       "      <th>gender</th>\n",
       "      <th>past_engagement_score</th>\n",
       "      <th>Engagement</th>\n",
       "      <th>Interest</th>\n",
       "    </tr>\n",
       "  </thead>\n",
       "  <tbody>\n",
       "    <tr>\n",
       "      <th>0</th>\n",
       "      <td>U1</td>\n",
       "      <td>34</td>\n",
       "      <td>0</td>\n",
       "      <td>0.41</td>\n",
       "      <td>0.504041</td>\n",
       "      <td>literature</td>\n",
       "    </tr>\n",
       "    <tr>\n",
       "      <th>1</th>\n",
       "      <td>U1</td>\n",
       "      <td>34</td>\n",
       "      <td>0</td>\n",
       "      <td>0.41</td>\n",
       "      <td>0.504041</td>\n",
       "      <td>fitness</td>\n",
       "    </tr>\n",
       "    <tr>\n",
       "      <th>2</th>\n",
       "      <td>U1</td>\n",
       "      <td>34</td>\n",
       "      <td>0</td>\n",
       "      <td>0.41</td>\n",
       "      <td>0.476457</td>\n",
       "      <td>tech</td>\n",
       "    </tr>\n",
       "    <tr>\n",
       "      <th>10</th>\n",
       "      <td>U10</td>\n",
       "      <td>21</td>\n",
       "      <td>0</td>\n",
       "      <td>0.78</td>\n",
       "      <td>0.845230</td>\n",
       "      <td>gaming</td>\n",
       "    </tr>\n",
       "    <tr>\n",
       "      <th>11</th>\n",
       "      <td>U10</td>\n",
       "      <td>21</td>\n",
       "      <td>0</td>\n",
       "      <td>0.78</td>\n",
       "      <td>0.832398</td>\n",
       "      <td>sports</td>\n",
       "    </tr>\n",
       "    <tr>\n",
       "      <th>...</th>\n",
       "      <td>...</td>\n",
       "      <td>...</td>\n",
       "      <td>...</td>\n",
       "      <td>...</td>\n",
       "      <td>...</td>\n",
       "      <td>...</td>\n",
       "    </tr>\n",
       "    <tr>\n",
       "      <th>281</th>\n",
       "      <td>U8</td>\n",
       "      <td>30</td>\n",
       "      <td>1</td>\n",
       "      <td>0.86</td>\n",
       "      <td>0.917446</td>\n",
       "      <td>travel</td>\n",
       "    </tr>\n",
       "    <tr>\n",
       "      <th>282</th>\n",
       "      <td>U8</td>\n",
       "      <td>30</td>\n",
       "      <td>1</td>\n",
       "      <td>0.86</td>\n",
       "      <td>0.916726</td>\n",
       "      <td>gaming</td>\n",
       "    </tr>\n",
       "    <tr>\n",
       "      <th>290</th>\n",
       "      <td>U9</td>\n",
       "      <td>27</td>\n",
       "      <td>-1</td>\n",
       "      <td>0.27</td>\n",
       "      <td>0.260245</td>\n",
       "      <td>sports</td>\n",
       "    </tr>\n",
       "    <tr>\n",
       "      <th>291</th>\n",
       "      <td>U9</td>\n",
       "      <td>27</td>\n",
       "      <td>-1</td>\n",
       "      <td>0.27</td>\n",
       "      <td>0.231490</td>\n",
       "      <td>gaming</td>\n",
       "    </tr>\n",
       "    <tr>\n",
       "      <th>292</th>\n",
       "      <td>U9</td>\n",
       "      <td>27</td>\n",
       "      <td>-1</td>\n",
       "      <td>0.27</td>\n",
       "      <td>0.222745</td>\n",
       "      <td>art</td>\n",
       "    </tr>\n",
       "  </tbody>\n",
       "</table>\n",
       "<p>90 rows × 6 columns</p>\n",
       "</div>"
      ],
      "text/plain": [
       "    user_id  age  gender  past_engagement_score  Engagement    Interest\n",
       "0        U1   34       0                   0.41    0.504041  literature\n",
       "1        U1   34       0                   0.41    0.504041     fitness\n",
       "2        U1   34       0                   0.41    0.476457        tech\n",
       "10      U10   21       0                   0.78    0.845230      gaming\n",
       "11      U10   21       0                   0.78    0.832398      sports\n",
       "..      ...  ...     ...                    ...         ...         ...\n",
       "281      U8   30       1                   0.86    0.917446      travel\n",
       "282      U8   30       1                   0.86    0.916726      gaming\n",
       "290      U9   27      -1                   0.27    0.260245      sports\n",
       "291      U9   27      -1                   0.27    0.231490      gaming\n",
       "292      U9   27      -1                   0.27    0.222745         art\n",
       "\n",
       "[90 rows x 6 columns]"
      ]
     },
     "execution_count": 423,
     "metadata": {},
     "output_type": "execute_result"
    }
   ],
   "source": [
    "df"
   ]
  },
  {
   "cell_type": "code",
   "execution_count": null,
   "id": "96d43f7a",
   "metadata": {},
   "outputs": [],
   "source": [
    "# Grouped by User_id and joined values with ','\n",
    "Output = df.groupby('user_id', as_index=False)['Interest'].apply(lambda x: ','.join(x)).rename(columns={'Interest': 'top_3_interests'})"
   ]
  },
  {
   "cell_type": "code",
   "execution_count": 425,
   "id": "dfd61beb",
   "metadata": {},
   "outputs": [
    {
     "data": {
      "text/plain": [
       "(30, 2)"
      ]
     },
     "execution_count": 425,
     "metadata": {},
     "output_type": "execute_result"
    }
   ],
   "source": [
    "\n",
    "Output.to_csv('4-Output.csv', index=False)\n",
    "Output.shape"
   ]
  }
 ],
 "metadata": {
  "kernelspec": {
   "display_name": "Python 3",
   "language": "python",
   "name": "python3"
  },
  "language_info": {
   "codemirror_mode": {
    "name": "ipython",
    "version": 3
   },
   "file_extension": ".py",
   "mimetype": "text/x-python",
   "name": "python",
   "nbconvert_exporter": "python",
   "pygments_lexer": "ipython3",
   "version": "3.11.9"
  }
 },
 "nbformat": 4,
 "nbformat_minor": 5
}
